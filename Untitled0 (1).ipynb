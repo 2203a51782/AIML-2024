{
  "nbformat": 4,
  "nbformat_minor": 0,
  "metadata": {
    "colab": {
      "provenance": []
    },
    "kernelspec": {
      "name": "python3",
      "display_name": "Python 3"
    },
    "language_info": {
      "name": "python"
    }
  },
  "cells": [
    {
      "cell_type": "code",
      "execution_count": 1,
      "metadata": {
        "colab": {
          "base_uri": "https://localhost:8080/"
        },
        "id": "EQ-ZvmRNSFRn",
        "outputId": "5390053e-5771-4f93-8b19-b1afeb50d954"
      },
      "outputs": [
        {
          "output_type": "stream",
          "name": "stdout",
          "text": [
            "Type of list1: <class 'list'>\n",
            "Type of array1: <class 'numpy.ndarray'>\n",
            "Addition: [ 7  9 11 13 15]\n",
            "Multiplication: [ 6 14 24 36 50]\n",
            "Division: [0.16666667 0.28571429 0.375      0.44444444 0.5       ]\n",
            "Power: [      1     128    6561  262144 9765625]\n",
            "Addition of Two: [1 2 3 4 5] + [ 6  7  8  9 10]\n",
            "Sin: [ 0.84147098  0.90929743  0.14112001 -0.7568025  -0.95892427]\n",
            "Log: [0.         0.69314718 1.09861229 1.38629436 1.60943791]\n",
            "Log2: [0.         1.         1.5849625  2.         2.32192809]\n",
            "Exp: [  2.71828183   7.3890561   20.08553692  54.59815003 148.4131591 ]\n"
          ]
        }
      ],
      "source": [
        "import numpy as np\n",
        "import pandas as pd\n",
        "\n",
        "# 1. Lists\n",
        "list1 = [1, 2, 3, 4, 5]\n",
        "list2 = [6, 7, 8, 9, 10]\n",
        "\n",
        "# 2. Arrays using Numpy\n",
        "array1 = np.array(list1)\n",
        "array2 = np.array(list2)\n",
        "\n",
        "# 3. Identify their type using type()\n",
        "print(\"Type of list1:\", type(list1))\n",
        "print(\"Type of array1:\", type(array1))\n",
        "\n",
        "# 4. Perform mathematical operations\n",
        "result_addition = array1 + array2\n",
        "result_multiplication = array1 * array2\n",
        "result_division = array1 / array2\n",
        "result_power = array1 ** array2\n",
        "\n",
        "# 5. Combine text with Numpy function\n",
        "text_output = f\"Addition of Two: {array1} + {array2}\"\n",
        "\n",
        "# 6. Implement np.sin(), log(), log2(), np.exp()\n",
        "result_sin = np.sin(array1)\n",
        "result_log = np.log(array1)\n",
        "result_log2 = np.log2(array1)\n",
        "result_exp = np.exp(array1)\n",
        "\n",
        "# Displaying results\n",
        "print(\"Addition:\", result_addition)\n",
        "print(\"Multiplication:\", result_multiplication)\n",
        "print(\"Division:\", result_division)\n",
        "print(\"Power:\", result_power)\n",
        "print(text_output)\n",
        "print(\"Sin:\", result_sin)\n",
        "print(\"Log:\", result_log)\n",
        "print(\"Log2:\", result_log2)\n",
        "print(\"Exp:\", result_exp)\n"
      ]
    }
  ]
}